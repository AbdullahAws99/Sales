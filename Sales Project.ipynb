{
 "cells": [
  {
   "cell_type": "markdown",
   "id": "2d76b275",
   "metadata": {},
   "source": [
    "# Calculate Sales Profit"
   ]
  },
  {
   "cell_type": "markdown",
   "id": "7f19912b",
   "metadata": {},
   "source": [
    "# Import Lib "
   ]
  },
  {
   "cell_type": "code",
   "execution_count": 1,
   "id": "7817f59a",
   "metadata": {},
   "outputs": [],
   "source": [
    "import pandas as pd\n",
    "import numpy as np\n",
    "import matplotlib.pyplot as plt\n",
    "%matplotlib inline"
   ]
  },
  {
   "cell_type": "markdown",
   "id": "21223db3",
   "metadata": {},
   "source": [
    "# PreProcessing"
   ]
  },
  {
   "cell_type": "code",
   "execution_count": 2,
   "id": "f2f53510",
   "metadata": {},
   "outputs": [],
   "source": [
    "Sales = pd.read_csv('Sales Data.csv')"
   ]
  },
  {
   "cell_type": "code",
   "execution_count": 3,
   "id": "259bb420",
   "metadata": {
    "scrolled": true
   },
   "outputs": [
    {
     "name": "stdout",
     "output_type": "stream",
     "text": [
      "<class 'pandas.core.frame.DataFrame'>\n",
      "RangeIndex: 185950 entries, 0 to 185949\n",
      "Data columns (total 11 columns):\n",
      " #   Column            Non-Null Count   Dtype  \n",
      "---  ------            --------------   -----  \n",
      " 0   Index             185950 non-null  int64  \n",
      " 1   Order ID          185950 non-null  int64  \n",
      " 2   Product           185950 non-null  object \n",
      " 3   Quantity Ordered  185950 non-null  int64  \n",
      " 4   Price Each        185950 non-null  float64\n",
      " 5   Order Date        185950 non-null  object \n",
      " 6   Purchase Address  185950 non-null  object \n",
      " 7   Month             185950 non-null  int64  \n",
      " 8   Sales             185950 non-null  float64\n",
      " 9   City              185950 non-null  object \n",
      " 10  Hour              185950 non-null  int64  \n",
      "dtypes: float64(2), int64(5), object(4)\n",
      "memory usage: 15.6+ MB\n"
     ]
    }
   ],
   "source": [
    "Sales.info()"
   ]
  },
  {
   "cell_type": "code",
   "execution_count": 4,
   "id": "ed65016c",
   "metadata": {},
   "outputs": [],
   "source": [
    "Sales['Month'] = Sales['Month'].astype(object)"
   ]
  },
  {
   "cell_type": "code",
   "execution_count": 5,
   "id": "f413bc79",
   "metadata": {},
   "outputs": [
    {
     "name": "stdout",
     "output_type": "stream",
     "text": [
      "<class 'pandas.core.frame.DataFrame'>\n",
      "RangeIndex: 185950 entries, 0 to 185949\n",
      "Data columns (total 11 columns):\n",
      " #   Column            Non-Null Count   Dtype         \n",
      "---  ------            --------------   -----         \n",
      " 0   Index             185950 non-null  int64         \n",
      " 1   Order ID          185950 non-null  int64         \n",
      " 2   Product           185950 non-null  object        \n",
      " 3   Quantity Ordered  185950 non-null  int64         \n",
      " 4   Price Each        185950 non-null  float64       \n",
      " 5   Order Date        185950 non-null  datetime64[ns]\n",
      " 6   Purchase Address  185950 non-null  object        \n",
      " 7   Month             185950 non-null  object        \n",
      " 8   Sales             185950 non-null  float64       \n",
      " 9   City              185950 non-null  object        \n",
      " 10  Hour              185950 non-null  int64         \n",
      "dtypes: datetime64[ns](1), float64(2), int64(4), object(4)\n",
      "memory usage: 15.6+ MB\n"
     ]
    }
   ],
   "source": [
    "Sales['Order Date']= pd.to_datetime(Sales['Order Date'])\n",
    "Sales.info()"
   ]
  },
  {
   "cell_type": "code",
   "execution_count": 6,
   "id": "8695059b",
   "metadata": {},
   "outputs": [
    {
     "data": {
      "text/html": [
       "<div>\n",
       "<style scoped>\n",
       "    .dataframe tbody tr th:only-of-type {\n",
       "        vertical-align: middle;\n",
       "    }\n",
       "\n",
       "    .dataframe tbody tr th {\n",
       "        vertical-align: top;\n",
       "    }\n",
       "\n",
       "    .dataframe thead th {\n",
       "        text-align: right;\n",
       "    }\n",
       "</style>\n",
       "<table border=\"1\" class=\"dataframe\">\n",
       "  <thead>\n",
       "    <tr style=\"text-align: right;\">\n",
       "      <th></th>\n",
       "      <th>Index</th>\n",
       "      <th>Order ID</th>\n",
       "      <th>Product</th>\n",
       "      <th>Quantity Ordered</th>\n",
       "      <th>Price Each</th>\n",
       "      <th>Order Date</th>\n",
       "      <th>Purchase Address</th>\n",
       "      <th>Month</th>\n",
       "      <th>Sales</th>\n",
       "      <th>City</th>\n",
       "      <th>Hour</th>\n",
       "    </tr>\n",
       "  </thead>\n",
       "  <tbody>\n",
       "    <tr>\n",
       "      <th>0</th>\n",
       "      <td>0</td>\n",
       "      <td>295665</td>\n",
       "      <td>Macbook Pro Laptop</td>\n",
       "      <td>1</td>\n",
       "      <td>1700.00</td>\n",
       "      <td>2019-12-30 00:01:00</td>\n",
       "      <td>136 Church St, New York City, NY 10001</td>\n",
       "      <td>12</td>\n",
       "      <td>1700.00</td>\n",
       "      <td>New York City</td>\n",
       "      <td>0</td>\n",
       "    </tr>\n",
       "    <tr>\n",
       "      <th>1</th>\n",
       "      <td>1</td>\n",
       "      <td>295666</td>\n",
       "      <td>LG Washing Machine</td>\n",
       "      <td>1</td>\n",
       "      <td>600.00</td>\n",
       "      <td>2019-12-29 07:03:00</td>\n",
       "      <td>562 2nd St, New York City, NY 10001</td>\n",
       "      <td>12</td>\n",
       "      <td>600.00</td>\n",
       "      <td>New York City</td>\n",
       "      <td>7</td>\n",
       "    </tr>\n",
       "    <tr>\n",
       "      <th>2</th>\n",
       "      <td>2</td>\n",
       "      <td>295667</td>\n",
       "      <td>USB-C Charging Cable</td>\n",
       "      <td>1</td>\n",
       "      <td>11.95</td>\n",
       "      <td>2019-12-12 18:21:00</td>\n",
       "      <td>277 Main St, New York City, NY 10001</td>\n",
       "      <td>12</td>\n",
       "      <td>11.95</td>\n",
       "      <td>New York City</td>\n",
       "      <td>18</td>\n",
       "    </tr>\n",
       "    <tr>\n",
       "      <th>3</th>\n",
       "      <td>3</td>\n",
       "      <td>295668</td>\n",
       "      <td>27in FHD Monitor</td>\n",
       "      <td>1</td>\n",
       "      <td>149.99</td>\n",
       "      <td>2019-12-22 15:13:00</td>\n",
       "      <td>410 6th St, San Francisco, CA 94016</td>\n",
       "      <td>12</td>\n",
       "      <td>149.99</td>\n",
       "      <td>San Francisco</td>\n",
       "      <td>15</td>\n",
       "    </tr>\n",
       "    <tr>\n",
       "      <th>4</th>\n",
       "      <td>4</td>\n",
       "      <td>295669</td>\n",
       "      <td>USB-C Charging Cable</td>\n",
       "      <td>1</td>\n",
       "      <td>11.95</td>\n",
       "      <td>2019-12-18 12:38:00</td>\n",
       "      <td>43 Hill St, Atlanta, GA 30301</td>\n",
       "      <td>12</td>\n",
       "      <td>11.95</td>\n",
       "      <td>Atlanta</td>\n",
       "      <td>12</td>\n",
       "    </tr>\n",
       "  </tbody>\n",
       "</table>\n",
       "</div>"
      ],
      "text/plain": [
       "   Index  Order ID               Product  Quantity Ordered  Price Each  \\\n",
       "0      0    295665    Macbook Pro Laptop                 1     1700.00   \n",
       "1      1    295666    LG Washing Machine                 1      600.00   \n",
       "2      2    295667  USB-C Charging Cable                 1       11.95   \n",
       "3      3    295668      27in FHD Monitor                 1      149.99   \n",
       "4      4    295669  USB-C Charging Cable                 1       11.95   \n",
       "\n",
       "           Order Date                        Purchase Address Month    Sales  \\\n",
       "0 2019-12-30 00:01:00  136 Church St, New York City, NY 10001    12  1700.00   \n",
       "1 2019-12-29 07:03:00     562 2nd St, New York City, NY 10001    12   600.00   \n",
       "2 2019-12-12 18:21:00    277 Main St, New York City, NY 10001    12    11.95   \n",
       "3 2019-12-22 15:13:00     410 6th St, San Francisco, CA 94016    12   149.99   \n",
       "4 2019-12-18 12:38:00           43 Hill St, Atlanta, GA 30301    12    11.95   \n",
       "\n",
       "             City  Hour  \n",
       "0   New York City     0  \n",
       "1   New York City     7  \n",
       "2   New York City    18  \n",
       "3   San Francisco    15  \n",
       "4         Atlanta    12  "
      ]
     },
     "execution_count": 6,
     "metadata": {},
     "output_type": "execute_result"
    }
   ],
   "source": [
    "Sales.head()"
   ]
  },
  {
   "cell_type": "code",
   "execution_count": 7,
   "id": "fff3adfa",
   "metadata": {},
   "outputs": [
    {
     "data": {
      "text/plain": [
       "Index               0\n",
       "Order ID            0\n",
       "Product             0\n",
       "Quantity Ordered    0\n",
       "Price Each          0\n",
       "Order Date          0\n",
       "Purchase Address    0\n",
       "Month               0\n",
       "Sales               0\n",
       "City                0\n",
       "Hour                0\n",
       "dtype: int64"
      ]
     },
     "execution_count": 7,
     "metadata": {},
     "output_type": "execute_result"
    }
   ],
   "source": [
    "Sales.isna().sum()"
   ]
  },
  {
   "cell_type": "code",
   "execution_count": 8,
   "id": "552816c5",
   "metadata": {},
   "outputs": [
    {
     "data": {
      "text/plain": [
       "0"
      ]
     },
     "execution_count": 8,
     "metadata": {},
     "output_type": "execute_result"
    }
   ],
   "source": [
    "Sales.duplicated().sum()"
   ]
  },
  {
   "cell_type": "code",
   "execution_count": 9,
   "id": "fb28a882",
   "metadata": {},
   "outputs": [
    {
     "data": {
      "text/html": [
       "<div>\n",
       "<style scoped>\n",
       "    .dataframe tbody tr th:only-of-type {\n",
       "        vertical-align: middle;\n",
       "    }\n",
       "\n",
       "    .dataframe tbody tr th {\n",
       "        vertical-align: top;\n",
       "    }\n",
       "\n",
       "    .dataframe thead th {\n",
       "        text-align: right;\n",
       "    }\n",
       "</style>\n",
       "<table border=\"1\" class=\"dataframe\">\n",
       "  <thead>\n",
       "    <tr style=\"text-align: right;\">\n",
       "      <th></th>\n",
       "      <th>Price Each</th>\n",
       "      <th>Sales</th>\n",
       "    </tr>\n",
       "  </thead>\n",
       "  <tbody>\n",
       "    <tr>\n",
       "      <th>count</th>\n",
       "      <td>185950.00</td>\n",
       "      <td>185950.00</td>\n",
       "    </tr>\n",
       "    <tr>\n",
       "      <th>mean</th>\n",
       "      <td>184.40</td>\n",
       "      <td>185.49</td>\n",
       "    </tr>\n",
       "    <tr>\n",
       "      <th>std</th>\n",
       "      <td>332.73</td>\n",
       "      <td>332.92</td>\n",
       "    </tr>\n",
       "    <tr>\n",
       "      <th>min</th>\n",
       "      <td>2.99</td>\n",
       "      <td>2.99</td>\n",
       "    </tr>\n",
       "    <tr>\n",
       "      <th>25%</th>\n",
       "      <td>11.95</td>\n",
       "      <td>11.95</td>\n",
       "    </tr>\n",
       "    <tr>\n",
       "      <th>50%</th>\n",
       "      <td>14.95</td>\n",
       "      <td>14.95</td>\n",
       "    </tr>\n",
       "    <tr>\n",
       "      <th>75%</th>\n",
       "      <td>150.00</td>\n",
       "      <td>150.00</td>\n",
       "    </tr>\n",
       "    <tr>\n",
       "      <th>max</th>\n",
       "      <td>1700.00</td>\n",
       "      <td>3400.00</td>\n",
       "    </tr>\n",
       "  </tbody>\n",
       "</table>\n",
       "</div>"
      ],
      "text/plain": [
       "       Price Each      Sales\n",
       "count   185950.00  185950.00\n",
       "mean       184.40     185.49\n",
       "std        332.73     332.92\n",
       "min          2.99       2.99\n",
       "25%         11.95      11.95\n",
       "50%         14.95      14.95\n",
       "75%        150.00     150.00\n",
       "max       1700.00    3400.00"
      ]
     },
     "execution_count": 9,
     "metadata": {},
     "output_type": "execute_result"
    }
   ],
   "source": [
    "Sales[['Price Each','Sales']].describe().round(2)"
   ]
  },
  {
   "cell_type": "code",
   "execution_count": 10,
   "id": "e2b2e2ed",
   "metadata": {},
   "outputs": [
    {
     "data": {
      "text/plain": [
       "19"
      ]
     },
     "execution_count": 10,
     "metadata": {},
     "output_type": "execute_result"
    }
   ],
   "source": [
    "Sales['Product'].nunique()"
   ]
  },
  {
   "cell_type": "markdown",
   "id": "ba2f1c46",
   "metadata": {},
   "source": [
    "# EDA Process"
   ]
  },
  {
   "cell_type": "code",
   "execution_count": 11,
   "id": "07b220fd",
   "metadata": {},
   "outputs": [
    {
     "data": {
      "text/html": [
       "<div>\n",
       "<style scoped>\n",
       "    .dataframe tbody tr th:only-of-type {\n",
       "        vertical-align: middle;\n",
       "    }\n",
       "\n",
       "    .dataframe tbody tr th {\n",
       "        vertical-align: top;\n",
       "    }\n",
       "\n",
       "    .dataframe thead th {\n",
       "        text-align: right;\n",
       "    }\n",
       "</style>\n",
       "<table border=\"1\" class=\"dataframe\">\n",
       "  <thead>\n",
       "    <tr style=\"text-align: right;\">\n",
       "      <th></th>\n",
       "      <th>Index</th>\n",
       "      <th>Order ID</th>\n",
       "      <th>Product</th>\n",
       "      <th>Quantity Ordered</th>\n",
       "      <th>Price Each</th>\n",
       "      <th>Order Date</th>\n",
       "      <th>Purchase Address</th>\n",
       "      <th>Month</th>\n",
       "      <th>Sales</th>\n",
       "      <th>City</th>\n",
       "      <th>Hour</th>\n",
       "    </tr>\n",
       "  </thead>\n",
       "  <tbody>\n",
       "    <tr>\n",
       "      <th>66409</th>\n",
       "      <td>11198</td>\n",
       "      <td>172706</td>\n",
       "      <td>Apple Airpods Headphones</td>\n",
       "      <td>1</td>\n",
       "      <td>150.00</td>\n",
       "      <td>2019-03-14 14:33:00</td>\n",
       "      <td>462 5th St, San Francisco, CA 94016</td>\n",
       "      <td>3</td>\n",
       "      <td>150.00</td>\n",
       "      <td>San Francisco</td>\n",
       "      <td>14</td>\n",
       "    </tr>\n",
       "    <tr>\n",
       "      <th>99160</th>\n",
       "      <td>233</td>\n",
       "      <td>279016</td>\n",
       "      <td>Apple Airpods Headphones</td>\n",
       "      <td>1</td>\n",
       "      <td>150.00</td>\n",
       "      <td>2019-11-20 12:05:00</td>\n",
       "      <td>564 North St, Atlanta, GA 30301</td>\n",
       "      <td>11</td>\n",
       "      <td>150.00</td>\n",
       "      <td>Atlanta</td>\n",
       "      <td>12</td>\n",
       "    </tr>\n",
       "    <tr>\n",
       "      <th>41261</th>\n",
       "      <td>16355</td>\n",
       "      <td>192161</td>\n",
       "      <td>AAA Batteries (4-pack)</td>\n",
       "      <td>1</td>\n",
       "      <td>2.99</td>\n",
       "      <td>2019-04-01 13:32:00</td>\n",
       "      <td>603 7th St, Portland, OR 97035</td>\n",
       "      <td>4</td>\n",
       "      <td>2.99</td>\n",
       "      <td>Portland</td>\n",
       "      <td>13</td>\n",
       "    </tr>\n",
       "    <tr>\n",
       "      <th>169642</th>\n",
       "      <td>11607</td>\n",
       "      <td>234016</td>\n",
       "      <td>AAA Batteries (4-pack)</td>\n",
       "      <td>2</td>\n",
       "      <td>2.99</td>\n",
       "      <td>2019-07-29 11:42:00</td>\n",
       "      <td>762 Lake St, Los Angeles, CA 90001</td>\n",
       "      <td>7</td>\n",
       "      <td>5.98</td>\n",
       "      <td>Los Angeles</td>\n",
       "      <td>11</td>\n",
       "    </tr>\n",
       "    <tr>\n",
       "      <th>165057</th>\n",
       "      <td>6999</td>\n",
       "      <td>229601</td>\n",
       "      <td>AAA Batteries (4-pack)</td>\n",
       "      <td>1</td>\n",
       "      <td>2.99</td>\n",
       "      <td>2019-07-26 19:11:00</td>\n",
       "      <td>58 Hill St, Portland, OR 97035</td>\n",
       "      <td>7</td>\n",
       "      <td>2.99</td>\n",
       "      <td>Portland</td>\n",
       "      <td>19</td>\n",
       "    </tr>\n",
       "    <tr>\n",
       "      <th>34422</th>\n",
       "      <td>9476</td>\n",
       "      <td>185605</td>\n",
       "      <td>Bose SoundSport Headphones</td>\n",
       "      <td>1</td>\n",
       "      <td>99.99</td>\n",
       "      <td>2019-04-15 17:35:00</td>\n",
       "      <td>904 Jackson St, Atlanta, GA 30301</td>\n",
       "      <td>4</td>\n",
       "      <td>99.99</td>\n",
       "      <td>Atlanta</td>\n",
       "      <td>17</td>\n",
       "    </tr>\n",
       "    <tr>\n",
       "      <th>3966</th>\n",
       "      <td>3987</td>\n",
       "      <td>299457</td>\n",
       "      <td>Apple Airpods Headphones</td>\n",
       "      <td>1</td>\n",
       "      <td>150.00</td>\n",
       "      <td>2019-12-16 13:06:00</td>\n",
       "      <td>399 Cedar St, New York City, NY 10001</td>\n",
       "      <td>12</td>\n",
       "      <td>150.00</td>\n",
       "      <td>New York City</td>\n",
       "      <td>13</td>\n",
       "    </tr>\n",
       "    <tr>\n",
       "      <th>16888</th>\n",
       "      <td>16972</td>\n",
       "      <td>311887</td>\n",
       "      <td>Bose SoundSport Headphones</td>\n",
       "      <td>1</td>\n",
       "      <td>99.99</td>\n",
       "      <td>2019-12-19 10:04:00</td>\n",
       "      <td>498 Elm St, San Francisco, CA 94016</td>\n",
       "      <td>12</td>\n",
       "      <td>99.99</td>\n",
       "      <td>San Francisco</td>\n",
       "      <td>10</td>\n",
       "    </tr>\n",
       "    <tr>\n",
       "      <th>179742</th>\n",
       "      <td>7386</td>\n",
       "      <td>216957</td>\n",
       "      <td>Apple Airpods Headphones</td>\n",
       "      <td>1</td>\n",
       "      <td>150.00</td>\n",
       "      <td>2019-06-23 14:55:00</td>\n",
       "      <td>470 Highland St, San Francisco, CA 94016</td>\n",
       "      <td>6</td>\n",
       "      <td>150.00</td>\n",
       "      <td>San Francisco</td>\n",
       "      <td>14</td>\n",
       "    </tr>\n",
       "  </tbody>\n",
       "</table>\n",
       "</div>"
      ],
      "text/plain": [
       "        Index  Order ID                     Product  Quantity Ordered  \\\n",
       "66409   11198    172706    Apple Airpods Headphones                 1   \n",
       "99160     233    279016    Apple Airpods Headphones                 1   \n",
       "41261   16355    192161      AAA Batteries (4-pack)                 1   \n",
       "169642  11607    234016      AAA Batteries (4-pack)                 2   \n",
       "165057   6999    229601      AAA Batteries (4-pack)                 1   \n",
       "34422    9476    185605  Bose SoundSport Headphones                 1   \n",
       "3966     3987    299457    Apple Airpods Headphones                 1   \n",
       "16888   16972    311887  Bose SoundSport Headphones                 1   \n",
       "179742   7386    216957    Apple Airpods Headphones                 1   \n",
       "\n",
       "        Price Each          Order Date  \\\n",
       "66409       150.00 2019-03-14 14:33:00   \n",
       "99160       150.00 2019-11-20 12:05:00   \n",
       "41261         2.99 2019-04-01 13:32:00   \n",
       "169642        2.99 2019-07-29 11:42:00   \n",
       "165057        2.99 2019-07-26 19:11:00   \n",
       "34422        99.99 2019-04-15 17:35:00   \n",
       "3966        150.00 2019-12-16 13:06:00   \n",
       "16888        99.99 2019-12-19 10:04:00   \n",
       "179742      150.00 2019-06-23 14:55:00   \n",
       "\n",
       "                                Purchase Address Month   Sales  \\\n",
       "66409        462 5th St, San Francisco, CA 94016     3  150.00   \n",
       "99160            564 North St, Atlanta, GA 30301    11  150.00   \n",
       "41261             603 7th St, Portland, OR 97035     4    2.99   \n",
       "169642        762 Lake St, Los Angeles, CA 90001     7    5.98   \n",
       "165057            58 Hill St, Portland, OR 97035     7    2.99   \n",
       "34422          904 Jackson St, Atlanta, GA 30301     4   99.99   \n",
       "3966       399 Cedar St, New York City, NY 10001    12  150.00   \n",
       "16888        498 Elm St, San Francisco, CA 94016    12   99.99   \n",
       "179742  470 Highland St, San Francisco, CA 94016     6  150.00   \n",
       "\n",
       "                  City  Hour  \n",
       "66409    San Francisco    14  \n",
       "99160          Atlanta    12  \n",
       "41261         Portland    13  \n",
       "169642     Los Angeles    11  \n",
       "165057        Portland    19  \n",
       "34422          Atlanta    17  \n",
       "3966     New York City    13  \n",
       "16888    San Francisco    10  \n",
       "179742   San Francisco    14  "
      ]
     },
     "execution_count": 11,
     "metadata": {},
     "output_type": "execute_result"
    }
   ],
   "source": [
    "Sales.sample(9)"
   ]
  },
  {
   "cell_type": "code",
   "execution_count": 12,
   "id": "65a39899",
   "metadata": {},
   "outputs": [
    {
     "data": {
      "text/plain": [
       "array(['Macbook Pro Laptop', 'LG Washing Machine', 'USB-C Charging Cable',\n",
       "       '27in FHD Monitor', 'AA Batteries (4-pack)',\n",
       "       'Bose SoundSport Headphones', 'AAA Batteries (4-pack)',\n",
       "       'ThinkPad Laptop', 'Lightning Charging Cable', 'Google Phone',\n",
       "       'Wired Headphones', 'Apple Airpods Headphones', 'Vareebadd Phone',\n",
       "       'iPhone', '20in Monitor', '34in Ultrawide Monitor',\n",
       "       'Flatscreen TV', '27in 4K Gaming Monitor', 'LG Dryer'],\n",
       "      dtype=object)"
      ]
     },
     "execution_count": 12,
     "metadata": {},
     "output_type": "execute_result"
    }
   ],
   "source": [
    "Sales['Product'].unique()"
   ]
  },
  {
   "cell_type": "code",
   "execution_count": 13,
   "id": "ca204fa0",
   "metadata": {},
   "outputs": [
    {
     "data": {
      "text/plain": [
       "19"
      ]
     },
     "execution_count": 13,
     "metadata": {},
     "output_type": "execute_result"
    }
   ],
   "source": [
    "Sales['Product'].nunique()"
   ]
  },
  {
   "cell_type": "code",
   "execution_count": 14,
   "id": "d16383d8",
   "metadata": {},
   "outputs": [
    {
     "data": {
      "text/plain": [
       "185950"
      ]
     },
     "execution_count": 14,
     "metadata": {},
     "output_type": "execute_result"
    }
   ],
   "source": [
    "## count the total orders\n",
    "\n",
    "len(Sales['Product'])"
   ]
  },
  {
   "cell_type": "code",
   "execution_count": 15,
   "id": "a982b23f",
   "metadata": {},
   "outputs": [],
   "source": [
    "## get the profit\n",
    "\n",
    "Sales['Gross profit']= Sales['Sales']-Sales['Price Each']"
   ]
  },
  {
   "cell_type": "code",
   "execution_count": 16,
   "id": "0b7459b2",
   "metadata": {
    "scrolled": true
   },
   "outputs": [
    {
     "data": {
      "text/plain": [
       "202905.29"
      ]
     },
     "execution_count": 16,
     "metadata": {},
     "output_type": "execute_result"
    }
   ],
   "source": [
    "Sales['Gross profit'].sum().round(2)"
   ]
  },
  {
   "cell_type": "code",
   "execution_count": 17,
   "id": "6e4dfed7",
   "metadata": {},
   "outputs": [],
   "source": [
    "## get the Revenue\n",
    "\n",
    "Sales['Revenue']= Sales['Price Each']* Sales['Quantity Ordered']"
   ]
  },
  {
   "cell_type": "code",
   "execution_count": 18,
   "id": "f7d5b0ca",
   "metadata": {},
   "outputs": [
    {
     "data": {
      "text/plain": [
       "34492035.97"
      ]
     },
     "execution_count": 18,
     "metadata": {},
     "output_type": "execute_result"
    }
   ],
   "source": [
    "Sales['Revenue'].sum()"
   ]
  },
  {
   "cell_type": "code",
   "execution_count": 19,
   "id": "dc7d2442",
   "metadata": {},
   "outputs": [],
   "source": [
    "Sales['Profit_percentage'] = (Sales['Sales']-Sales['Price Each'])/Sales['Sales']"
   ]
  },
  {
   "cell_type": "code",
   "execution_count": 20,
   "id": "bf7fa6d4",
   "metadata": {},
   "outputs": [
    {
     "data": {
      "text/plain": [
       "0.000000    168552\n",
       "0.500000     13324\n",
       "0.666667      2666\n",
       "0.750000       787\n",
       "0.666667       254\n",
       "0.800000       167\n",
       "0.833333        79\n",
       "0.800000        69\n",
       "0.857143        24\n",
       "0.750000        19\n",
       "0.875000         5\n",
       "0.888889         3\n",
       "0.833333         1\n",
       "Name: Profit_percentage, dtype: int64"
      ]
     },
     "execution_count": 20,
     "metadata": {},
     "output_type": "execute_result"
    }
   ],
   "source": [
    "Sales['Profit_percentage'].value_counts()"
   ]
  },
  {
   "cell_type": "code",
   "execution_count": 21,
   "id": "6a000690",
   "metadata": {},
   "outputs": [
    {
     "data": {
      "text/html": [
       "<div>\n",
       "<style scoped>\n",
       "    .dataframe tbody tr th:only-of-type {\n",
       "        vertical-align: middle;\n",
       "    }\n",
       "\n",
       "    .dataframe tbody tr th {\n",
       "        vertical-align: top;\n",
       "    }\n",
       "\n",
       "    .dataframe thead th {\n",
       "        text-align: right;\n",
       "    }\n",
       "</style>\n",
       "<table border=\"1\" class=\"dataframe\">\n",
       "  <thead>\n",
       "    <tr style=\"text-align: right;\">\n",
       "      <th></th>\n",
       "      <th>Index</th>\n",
       "      <th>Order ID</th>\n",
       "      <th>Product</th>\n",
       "      <th>Quantity Ordered</th>\n",
       "      <th>Price Each</th>\n",
       "      <th>Order Date</th>\n",
       "      <th>Purchase Address</th>\n",
       "      <th>Month</th>\n",
       "      <th>Sales</th>\n",
       "      <th>City</th>\n",
       "      <th>Hour</th>\n",
       "      <th>Gross profit</th>\n",
       "      <th>Revenue</th>\n",
       "      <th>Profit_percentage</th>\n",
       "    </tr>\n",
       "  </thead>\n",
       "  <tbody>\n",
       "    <tr>\n",
       "      <th>147321</th>\n",
       "      <td>850</td>\n",
       "      <td>248970</td>\n",
       "      <td>AAA Batteries (4-pack)</td>\n",
       "      <td>2</td>\n",
       "      <td>2.99</td>\n",
       "      <td>2019-09-17 01:41:00</td>\n",
       "      <td>746 Johnson St, Atlanta, GA 30301</td>\n",
       "      <td>9</td>\n",
       "      <td>5.98</td>\n",
       "      <td>Atlanta</td>\n",
       "      <td>1</td>\n",
       "      <td>2.99</td>\n",
       "      <td>5.98</td>\n",
       "      <td>0.5</td>\n",
       "    </tr>\n",
       "    <tr>\n",
       "      <th>7074</th>\n",
       "      <td>7110</td>\n",
       "      <td>302451</td>\n",
       "      <td>Apple Airpods Headphones</td>\n",
       "      <td>1</td>\n",
       "      <td>150.00</td>\n",
       "      <td>2019-12-02 12:53:00</td>\n",
       "      <td>707 Cedar St, San Francisco, CA 94016</td>\n",
       "      <td>12</td>\n",
       "      <td>150.00</td>\n",
       "      <td>San Francisco</td>\n",
       "      <td>12</td>\n",
       "      <td>0.00</td>\n",
       "      <td>150.00</td>\n",
       "      <td>0.0</td>\n",
       "    </tr>\n",
       "    <tr>\n",
       "      <th>111088</th>\n",
       "      <td>12214</td>\n",
       "      <td>290460</td>\n",
       "      <td>Bose SoundSport Headphones</td>\n",
       "      <td>1</td>\n",
       "      <td>99.99</td>\n",
       "      <td>2019-11-08 06:51:00</td>\n",
       "      <td>163 South St, San Francisco, CA 94016</td>\n",
       "      <td>11</td>\n",
       "      <td>99.99</td>\n",
       "      <td>San Francisco</td>\n",
       "      <td>6</td>\n",
       "      <td>0.00</td>\n",
       "      <td>99.99</td>\n",
       "      <td>0.0</td>\n",
       "    </tr>\n",
       "    <tr>\n",
       "      <th>82073</th>\n",
       "      <td>11709</td>\n",
       "      <td>247867</td>\n",
       "      <td>Apple Airpods Headphones</td>\n",
       "      <td>1</td>\n",
       "      <td>150.00</td>\n",
       "      <td>2019-08-17 14:06:00</td>\n",
       "      <td>796 Willow St, San Francisco, CA 94016</td>\n",
       "      <td>8</td>\n",
       "      <td>150.00</td>\n",
       "      <td>San Francisco</td>\n",
       "      <td>14</td>\n",
       "      <td>0.00</td>\n",
       "      <td>150.00</td>\n",
       "      <td>0.0</td>\n",
       "    </tr>\n",
       "    <tr>\n",
       "      <th>123478</th>\n",
       "      <td>7001</td>\n",
       "      <td>266044</td>\n",
       "      <td>AAA Batteries (4-pack)</td>\n",
       "      <td>1</td>\n",
       "      <td>2.99</td>\n",
       "      <td>2019-10-02 09:23:00</td>\n",
       "      <td>619 Park St, San Francisco, CA 94016</td>\n",
       "      <td>10</td>\n",
       "      <td>2.99</td>\n",
       "      <td>San Francisco</td>\n",
       "      <td>9</td>\n",
       "      <td>0.00</td>\n",
       "      <td>2.99</td>\n",
       "      <td>0.0</td>\n",
       "    </tr>\n",
       "    <tr>\n",
       "      <th>112751</th>\n",
       "      <td>13885</td>\n",
       "      <td>292064</td>\n",
       "      <td>Lightning Charging Cable</td>\n",
       "      <td>1</td>\n",
       "      <td>14.95</td>\n",
       "      <td>2019-11-24 23:07:00</td>\n",
       "      <td>839 13th St, Los Angeles, CA 90001</td>\n",
       "      <td>11</td>\n",
       "      <td>14.95</td>\n",
       "      <td>Los Angeles</td>\n",
       "      <td>23</td>\n",
       "      <td>0.00</td>\n",
       "      <td>14.95</td>\n",
       "      <td>0.0</td>\n",
       "    </tr>\n",
       "    <tr>\n",
       "      <th>70036</th>\n",
       "      <td>14844</td>\n",
       "      <td>176192</td>\n",
       "      <td>iPhone</td>\n",
       "      <td>1</td>\n",
       "      <td>700.00</td>\n",
       "      <td>2019-03-07 22:40:00</td>\n",
       "      <td>315 River St, Los Angeles, CA 90001</td>\n",
       "      <td>3</td>\n",
       "      <td>700.00</td>\n",
       "      <td>Los Angeles</td>\n",
       "      <td>22</td>\n",
       "      <td>0.00</td>\n",
       "      <td>700.00</td>\n",
       "      <td>0.0</td>\n",
       "    </tr>\n",
       "    <tr>\n",
       "      <th>53675</th>\n",
       "      <td>10442</td>\n",
       "      <td>160491</td>\n",
       "      <td>Wired Headphones</td>\n",
       "      <td>2</td>\n",
       "      <td>11.99</td>\n",
       "      <td>2019-02-21 16:11:00</td>\n",
       "      <td>724 Hill St, New York City, NY 10001</td>\n",
       "      <td>2</td>\n",
       "      <td>23.98</td>\n",
       "      <td>New York City</td>\n",
       "      <td>16</td>\n",
       "      <td>11.99</td>\n",
       "      <td>23.98</td>\n",
       "      <td>0.5</td>\n",
       "    </tr>\n",
       "    <tr>\n",
       "      <th>76557</th>\n",
       "      <td>6163</td>\n",
       "      <td>242583</td>\n",
       "      <td>iPhone</td>\n",
       "      <td>1</td>\n",
       "      <td>700.00</td>\n",
       "      <td>2019-08-01 17:13:00</td>\n",
       "      <td>702 Cherry St, Boston, MA 02215</td>\n",
       "      <td>8</td>\n",
       "      <td>700.00</td>\n",
       "      <td>Boston</td>\n",
       "      <td>17</td>\n",
       "      <td>0.00</td>\n",
       "      <td>700.00</td>\n",
       "      <td>0.0</td>\n",
       "    </tr>\n",
       "    <tr>\n",
       "      <th>83032</th>\n",
       "      <td>660</td>\n",
       "      <td>194722</td>\n",
       "      <td>iPhone</td>\n",
       "      <td>1</td>\n",
       "      <td>700.00</td>\n",
       "      <td>2019-05-29 14:46:00</td>\n",
       "      <td>184 Adams St, Austin, TX 73301</td>\n",
       "      <td>5</td>\n",
       "      <td>700.00</td>\n",
       "      <td>Austin</td>\n",
       "      <td>14</td>\n",
       "      <td>0.00</td>\n",
       "      <td>700.00</td>\n",
       "      <td>0.0</td>\n",
       "    </tr>\n",
       "  </tbody>\n",
       "</table>\n",
       "</div>"
      ],
      "text/plain": [
       "        Index  Order ID                     Product  Quantity Ordered  \\\n",
       "147321    850    248970      AAA Batteries (4-pack)                 2   \n",
       "7074     7110    302451    Apple Airpods Headphones                 1   \n",
       "111088  12214    290460  Bose SoundSport Headphones                 1   \n",
       "82073   11709    247867    Apple Airpods Headphones                 1   \n",
       "123478   7001    266044      AAA Batteries (4-pack)                 1   \n",
       "112751  13885    292064    Lightning Charging Cable                 1   \n",
       "70036   14844    176192                      iPhone                 1   \n",
       "53675   10442    160491            Wired Headphones                 2   \n",
       "76557    6163    242583                      iPhone                 1   \n",
       "83032     660    194722                      iPhone                 1   \n",
       "\n",
       "        Price Each          Order Date  \\\n",
       "147321        2.99 2019-09-17 01:41:00   \n",
       "7074        150.00 2019-12-02 12:53:00   \n",
       "111088       99.99 2019-11-08 06:51:00   \n",
       "82073       150.00 2019-08-17 14:06:00   \n",
       "123478        2.99 2019-10-02 09:23:00   \n",
       "112751       14.95 2019-11-24 23:07:00   \n",
       "70036       700.00 2019-03-07 22:40:00   \n",
       "53675        11.99 2019-02-21 16:11:00   \n",
       "76557       700.00 2019-08-01 17:13:00   \n",
       "83032       700.00 2019-05-29 14:46:00   \n",
       "\n",
       "                              Purchase Address Month   Sales            City  \\\n",
       "147321       746 Johnson St, Atlanta, GA 30301     9    5.98         Atlanta   \n",
       "7074     707 Cedar St, San Francisco, CA 94016    12  150.00   San Francisco   \n",
       "111088   163 South St, San Francisco, CA 94016    11   99.99   San Francisco   \n",
       "82073   796 Willow St, San Francisco, CA 94016     8  150.00   San Francisco   \n",
       "123478    619 Park St, San Francisco, CA 94016    10    2.99   San Francisco   \n",
       "112751      839 13th St, Los Angeles, CA 90001    11   14.95     Los Angeles   \n",
       "70036      315 River St, Los Angeles, CA 90001     3  700.00     Los Angeles   \n",
       "53675     724 Hill St, New York City, NY 10001     2   23.98   New York City   \n",
       "76557          702 Cherry St, Boston, MA 02215     8  700.00          Boston   \n",
       "83032           184 Adams St, Austin, TX 73301     5  700.00          Austin   \n",
       "\n",
       "        Hour  Gross profit  Revenue  Profit_percentage  \n",
       "147321     1          2.99     5.98                0.5  \n",
       "7074      12          0.00   150.00                0.0  \n",
       "111088     6          0.00    99.99                0.0  \n",
       "82073     14          0.00   150.00                0.0  \n",
       "123478     9          0.00     2.99                0.0  \n",
       "112751    23          0.00    14.95                0.0  \n",
       "70036     22          0.00   700.00                0.0  \n",
       "53675     16         11.99    23.98                0.5  \n",
       "76557     17          0.00   700.00                0.0  \n",
       "83032     14          0.00   700.00                0.0  "
      ]
     },
     "execution_count": 21,
     "metadata": {},
     "output_type": "execute_result"
    }
   ],
   "source": [
    "Sales.sample(10)"
   ]
  },
  {
   "cell_type": "code",
   "execution_count": 22,
   "id": "cd40db05",
   "metadata": {},
   "outputs": [
    {
     "data": {
      "text/plain": [
       "0.0059"
      ]
     },
     "execution_count": 22,
     "metadata": {},
     "output_type": "execute_result"
    }
   ],
   "source": [
    "##get the percentage of the profit\n",
    "\n",
    "Porfit_PER = round(sum(Sales['Gross profit']) / sum(Sales['Revenue']),4)\n",
    "Porfit_PER"
   ]
  },
  {
   "cell_type": "code",
   "execution_count": 23,
   "id": "3918e2e8",
   "metadata": {},
   "outputs": [
    {
     "data": {
      "text/plain": [
       "USB-C Charging Cable        21903\n",
       "Lightning Charging Cable    21658\n",
       "AAA Batteries (4-pack)      20641\n",
       "AA Batteries (4-pack)       20577\n",
       "Wired Headphones            18882\n",
       "Name: Product, dtype: int64"
      ]
     },
     "execution_count": 23,
     "metadata": {},
     "output_type": "execute_result"
    }
   ],
   "source": [
    "## most products selling\n",
    "Sales['Product'].value_counts().head(5)"
   ]
  },
  {
   "cell_type": "code",
   "execution_count": 24,
   "id": "acde4385",
   "metadata": {},
   "outputs": [
    {
     "data": {
      "text/plain": [
       "<Axes: >"
      ]
     },
     "execution_count": 24,
     "metadata": {},
     "output_type": "execute_result"
    },
    {
     "data": {
      "image/png": "[encoded data removed]",
      "text/plain": [
       "<Figure size 640x480 with 1 Axes>"
      ]
     },
     "metadata": {},
     "output_type": "display_data"
    }
   ],
   "source": [
    "Sales['Product'].value_counts().sample(5).plot.bar()"
   ]
  },
  {
   "cell_type": "code",
   "execution_count": 25,
   "id": "7bc1ebb0",
   "metadata": {},
   "outputs": [
    {
     "data": {
      "text/plain": [
       "<Axes: >"
      ]
     },
     "execution_count": 25,
     "metadata": {},
     "output_type": "execute_result"
    },
    {
     "data": {
      "image/png": "[encoded data removed]",
      "text/plain": [
       "<Figure size 640x480 with 1 Axes>"
      ]
     },
     "metadata": {},
     "output_type": "display_data"
    }
   ],
   "source": [
    "Sales['Product'].value_counts().plot.bar()"
   ]
  },
  {
   "cell_type": "code",
   "execution_count": 26,
   "id": "d07ab3d0",
   "metadata": {},
   "outputs": [
    {
     "data": {
      "text/plain": [
       "<Axes: >"
      ]
     },
     "execution_count": 26,
     "metadata": {},
     "output_type": "execute_result"
    },
    {
     "data": {
      "image/png": "[encoded data removed]",
      "text/plain": [
       "<Figure size 640x480 with 1 Axes>"
      ]
     },
     "metadata": {},
     "output_type": "display_data"
    }
   ],
   "source": [
    "Sales['Month'].value_counts().plot.bar()"
   ]
  },
  {
   "cell_type": "code",
   "execution_count": 27,
   "id": "8eeab4aa",
   "metadata": {},
   "outputs": [
    {
     "data": {
      "text/plain": [
       "<Axes: >"
      ]
     },
     "execution_count": 27,
     "metadata": {},
     "output_type": "execute_result"
    },
    {
     "data": {
      "image/png": "[encoded data removed]",
      "text/plain": [
       "<Figure size 640x480 with 1 Axes>"
      ]
     },
     "metadata": {},
     "output_type": "display_data"
    }
   ],
   "source": [
    "Sales['Hour'].value_counts().plot.bar()"
   ]
  },
  {
   "cell_type": "code",
   "execution_count": 28,
   "id": "70468fc5",
   "metadata": {},
   "outputs": [
    {
     "data": {
      "text/plain": [
       "Text(0.5, 1.0, '')"
      ]
     },
     "execution_count": 28,
     "metadata": {},
     "output_type": "execute_result"
    },
    {
     "data": {
      "image/png": "[encoded data removed]",
      "text/plain": [
       "<Figure size 800x400 with 1 Axes>"
      ]
     },
     "metadata": {},
     "output_type": "display_data"
    }
   ],
   "source": [
    "##here to find if there are outlier values\n",
    "\n",
    "ax = Sales.boxplot(column='Sales', by='Month', figsize=(8,4))\n",
    "ax.set_ylabel('Sales')\n",
    "ax.set_title('')"
   ]
  },
  {
   "cell_type": "code",
   "execution_count": 29,
   "id": "fe9ca0b1",
   "metadata": {
    "scrolled": true
   },
   "outputs": [
    {
     "data": {
      "text/html": [
       "<div>\n",
       "<style scoped>\n",
       "    .dataframe tbody tr th:only-of-type {\n",
       "        vertical-align: middle;\n",
       "    }\n",
       "\n",
       "    .dataframe tbody tr th {\n",
       "        vertical-align: top;\n",
       "    }\n",
       "\n",
       "    .dataframe thead th {\n",
       "        text-align: right;\n",
       "    }\n",
       "</style>\n",
       "<table border=\"1\" class=\"dataframe\">\n",
       "  <thead>\n",
       "    <tr style=\"text-align: right;\">\n",
       "      <th></th>\n",
       "      <th>Index</th>\n",
       "      <th>Order ID</th>\n",
       "      <th>Product</th>\n",
       "      <th>Quantity Ordered</th>\n",
       "      <th>Price Each</th>\n",
       "      <th>Order Date</th>\n",
       "      <th>Purchase Address</th>\n",
       "      <th>Month</th>\n",
       "      <th>Sales</th>\n",
       "      <th>City</th>\n",
       "      <th>Hour</th>\n",
       "      <th>Gross profit</th>\n",
       "      <th>Revenue</th>\n",
       "      <th>Profit_percentage</th>\n",
       "    </tr>\n",
       "  </thead>\n",
       "  <tbody>\n",
       "    <tr>\n",
       "      <th>29683</th>\n",
       "      <td>4717</td>\n",
       "      <td>181069</td>\n",
       "      <td>Macbook Pro Laptop</td>\n",
       "      <td>2</td>\n",
       "      <td>1700.0</td>\n",
       "      <td>2019-04-27 21:01:00</td>\n",
       "      <td>668 Park St, San Francisco, CA 94016</td>\n",
       "      <td>4</td>\n",
       "      <td>3400.0</td>\n",
       "      <td>San Francisco</td>\n",
       "      <td>21</td>\n",
       "      <td>1700.0</td>\n",
       "      <td>3400.0</td>\n",
       "      <td>0.5</td>\n",
       "    </tr>\n",
       "    <tr>\n",
       "      <th>30183</th>\n",
       "      <td>5219</td>\n",
       "      <td>181544</td>\n",
       "      <td>Macbook Pro Laptop</td>\n",
       "      <td>2</td>\n",
       "      <td>1700.0</td>\n",
       "      <td>2019-04-22 12:48:00</td>\n",
       "      <td>731 11th St, New York City, NY 10001</td>\n",
       "      <td>4</td>\n",
       "      <td>3400.0</td>\n",
       "      <td>New York City</td>\n",
       "      <td>12</td>\n",
       "      <td>1700.0</td>\n",
       "      <td>3400.0</td>\n",
       "      <td>0.5</td>\n",
       "    </tr>\n",
       "    <tr>\n",
       "      <th>89114</th>\n",
       "      <td>6776</td>\n",
       "      <td>200528</td>\n",
       "      <td>Macbook Pro Laptop</td>\n",
       "      <td>2</td>\n",
       "      <td>1700.0</td>\n",
       "      <td>2019-05-13 13:40:00</td>\n",
       "      <td>643 4th St, Boston, MA 02215</td>\n",
       "      <td>5</td>\n",
       "      <td>3400.0</td>\n",
       "      <td>Boston</td>\n",
       "      <td>13</td>\n",
       "      <td>1700.0</td>\n",
       "      <td>3400.0</td>\n",
       "      <td>0.5</td>\n",
       "    </tr>\n",
       "    <tr>\n",
       "      <th>172777</th>\n",
       "      <td>385</td>\n",
       "      <td>210292</td>\n",
       "      <td>Macbook Pro Laptop</td>\n",
       "      <td>2</td>\n",
       "      <td>1700.0</td>\n",
       "      <td>2019-06-08 09:00:00</td>\n",
       "      <td>953 Ridge St, San Francisco, CA 94016</td>\n",
       "      <td>6</td>\n",
       "      <td>3400.0</td>\n",
       "      <td>San Francisco</td>\n",
       "      <td>9</td>\n",
       "      <td>1700.0</td>\n",
       "      <td>3400.0</td>\n",
       "      <td>0.5</td>\n",
       "    </tr>\n",
       "  </tbody>\n",
       "</table>\n",
       "</div>"
      ],
      "text/plain": [
       "        Index  Order ID             Product  Quantity Ordered  Price Each  \\\n",
       "29683    4717    181069  Macbook Pro Laptop                 2      1700.0   \n",
       "30183    5219    181544  Macbook Pro Laptop                 2      1700.0   \n",
       "89114    6776    200528  Macbook Pro Laptop                 2      1700.0   \n",
       "172777    385    210292  Macbook Pro Laptop                 2      1700.0   \n",
       "\n",
       "                Order Date                       Purchase Address Month  \\\n",
       "29683  2019-04-27 21:01:00   668 Park St, San Francisco, CA 94016     4   \n",
       "30183  2019-04-22 12:48:00   731 11th St, New York City, NY 10001     4   \n",
       "89114  2019-05-13 13:40:00           643 4th St, Boston, MA 02215     5   \n",
       "172777 2019-06-08 09:00:00  953 Ridge St, San Francisco, CA 94016     6   \n",
       "\n",
       "         Sales            City  Hour  Gross profit  Revenue  Profit_percentage  \n",
       "29683   3400.0   San Francisco    21        1700.0   3400.0                0.5  \n",
       "30183   3400.0   New York City    12        1700.0   3400.0                0.5  \n",
       "89114   3400.0          Boston    13        1700.0   3400.0                0.5  \n",
       "172777  3400.0   San Francisco     9        1700.0   3400.0                0.5  "
      ]
     },
     "execution_count": 29,
     "metadata": {},
     "output_type": "execute_result"
    }
   ],
   "source": [
    "## The most expensive selling products\n",
    "Sales[Sales['Sales']== Sales['Sales'].max()]"
   ]
  },
  {
   "cell_type": "code",
   "execution_count": 30,
   "id": "74192184",
   "metadata": {},
   "outputs": [
    {
     "data": {
      "text/html": [
       "<div>\n",
       "<style scoped>\n",
       "    .dataframe tbody tr th:only-of-type {\n",
       "        vertical-align: middle;\n",
       "    }\n",
       "\n",
       "    .dataframe tbody tr th {\n",
       "        vertical-align: top;\n",
       "    }\n",
       "\n",
       "    .dataframe thead th {\n",
       "        text-align: right;\n",
       "    }\n",
       "</style>\n",
       "<table border=\"1\" class=\"dataframe\">\n",
       "  <thead>\n",
       "    <tr style=\"text-align: right;\">\n",
       "      <th></th>\n",
       "      <th>Index</th>\n",
       "      <th>Order ID</th>\n",
       "      <th>Product</th>\n",
       "      <th>Quantity Ordered</th>\n",
       "      <th>Price Each</th>\n",
       "      <th>Order Date</th>\n",
       "      <th>Purchase Address</th>\n",
       "      <th>Month</th>\n",
       "      <th>Sales</th>\n",
       "      <th>City</th>\n",
       "      <th>Hour</th>\n",
       "      <th>Gross profit</th>\n",
       "      <th>Revenue</th>\n",
       "      <th>Profit_percentage</th>\n",
       "    </tr>\n",
       "  </thead>\n",
       "  <tbody>\n",
       "    <tr>\n",
       "      <th>50</th>\n",
       "      <td>50</td>\n",
       "      <td>295710</td>\n",
       "      <td>AAA Batteries (4-pack)</td>\n",
       "      <td>1</td>\n",
       "      <td>2.99</td>\n",
       "      <td>2019-12-26 19:09:00</td>\n",
       "      <td>729 Pine St, Atlanta, GA 30301</td>\n",
       "      <td>12</td>\n",
       "      <td>2.99</td>\n",
       "      <td>Atlanta</td>\n",
       "      <td>19</td>\n",
       "      <td>0.0</td>\n",
       "      <td>2.99</td>\n",
       "      <td>0.0</td>\n",
       "    </tr>\n",
       "    <tr>\n",
       "      <th>75</th>\n",
       "      <td>75</td>\n",
       "      <td>295734</td>\n",
       "      <td>AAA Batteries (4-pack)</td>\n",
       "      <td>1</td>\n",
       "      <td>2.99</td>\n",
       "      <td>2019-12-25 12:38:00</td>\n",
       "      <td>453 Jackson St, Portland, OR 97035</td>\n",
       "      <td>12</td>\n",
       "      <td>2.99</td>\n",
       "      <td>Portland</td>\n",
       "      <td>12</td>\n",
       "      <td>0.0</td>\n",
       "      <td>2.99</td>\n",
       "      <td>0.0</td>\n",
       "    </tr>\n",
       "    <tr>\n",
       "      <th>82</th>\n",
       "      <td>82</td>\n",
       "      <td>295738</td>\n",
       "      <td>AAA Batteries (4-pack)</td>\n",
       "      <td>1</td>\n",
       "      <td>2.99</td>\n",
       "      <td>2019-12-20 18:19:00</td>\n",
       "      <td>829 7th St, Dallas, TX 75001</td>\n",
       "      <td>12</td>\n",
       "      <td>2.99</td>\n",
       "      <td>Dallas</td>\n",
       "      <td>18</td>\n",
       "      <td>0.0</td>\n",
       "      <td>2.99</td>\n",
       "      <td>0.0</td>\n",
       "    </tr>\n",
       "    <tr>\n",
       "      <th>95</th>\n",
       "      <td>95</td>\n",
       "      <td>295751</td>\n",
       "      <td>AAA Batteries (4-pack)</td>\n",
       "      <td>1</td>\n",
       "      <td>2.99</td>\n",
       "      <td>2019-12-29 11:03:00</td>\n",
       "      <td>922 Hickory St, Los Angeles, CA 90001</td>\n",
       "      <td>12</td>\n",
       "      <td>2.99</td>\n",
       "      <td>Los Angeles</td>\n",
       "      <td>11</td>\n",
       "      <td>0.0</td>\n",
       "      <td>2.99</td>\n",
       "      <td>0.0</td>\n",
       "    </tr>\n",
       "    <tr>\n",
       "      <th>113</th>\n",
       "      <td>113</td>\n",
       "      <td>295767</td>\n",
       "      <td>AAA Batteries (4-pack)</td>\n",
       "      <td>1</td>\n",
       "      <td>2.99</td>\n",
       "      <td>2019-12-21 13:00:00</td>\n",
       "      <td>891 7th St, New York City, NY 10001</td>\n",
       "      <td>12</td>\n",
       "      <td>2.99</td>\n",
       "      <td>New York City</td>\n",
       "      <td>13</td>\n",
       "      <td>0.0</td>\n",
       "      <td>2.99</td>\n",
       "      <td>0.0</td>\n",
       "    </tr>\n",
       "    <tr>\n",
       "      <th>...</th>\n",
       "      <td>...</td>\n",
       "      <td>...</td>\n",
       "      <td>...</td>\n",
       "      <td>...</td>\n",
       "      <td>...</td>\n",
       "      <td>...</td>\n",
       "      <td>...</td>\n",
       "      <td>...</td>\n",
       "      <td>...</td>\n",
       "      <td>...</td>\n",
       "      <td>...</td>\n",
       "      <td>...</td>\n",
       "      <td>...</td>\n",
       "      <td>...</td>\n",
       "    </tr>\n",
       "    <tr>\n",
       "      <th>185929</th>\n",
       "      <td>13601</td>\n",
       "      <td>222890</td>\n",
       "      <td>AAA Batteries (4-pack)</td>\n",
       "      <td>1</td>\n",
       "      <td>2.99</td>\n",
       "      <td>2019-06-24 07:54:00</td>\n",
       "      <td>665 South St, San Francisco, CA 94016</td>\n",
       "      <td>6</td>\n",
       "      <td>2.99</td>\n",
       "      <td>San Francisco</td>\n",
       "      <td>7</td>\n",
       "      <td>0.0</td>\n",
       "      <td>2.99</td>\n",
       "      <td>0.0</td>\n",
       "    </tr>\n",
       "    <tr>\n",
       "      <th>185938</th>\n",
       "      <td>13610</td>\n",
       "      <td>222899</td>\n",
       "      <td>AAA Batteries (4-pack)</td>\n",
       "      <td>1</td>\n",
       "      <td>2.99</td>\n",
       "      <td>2019-06-18 16:34:00</td>\n",
       "      <td>688 1st St, New York City, NY 10001</td>\n",
       "      <td>6</td>\n",
       "      <td>2.99</td>\n",
       "      <td>New York City</td>\n",
       "      <td>16</td>\n",
       "      <td>0.0</td>\n",
       "      <td>2.99</td>\n",
       "      <td>0.0</td>\n",
       "    </tr>\n",
       "    <tr>\n",
       "      <th>185940</th>\n",
       "      <td>13612</td>\n",
       "      <td>222901</td>\n",
       "      <td>AAA Batteries (4-pack)</td>\n",
       "      <td>1</td>\n",
       "      <td>2.99</td>\n",
       "      <td>2019-06-11 04:00:00</td>\n",
       "      <td>891 South St, Atlanta, GA 30301</td>\n",
       "      <td>6</td>\n",
       "      <td>2.99</td>\n",
       "      <td>Atlanta</td>\n",
       "      <td>4</td>\n",
       "      <td>0.0</td>\n",
       "      <td>2.99</td>\n",
       "      <td>0.0</td>\n",
       "    </tr>\n",
       "    <tr>\n",
       "      <th>185945</th>\n",
       "      <td>13617</td>\n",
       "      <td>222905</td>\n",
       "      <td>AAA Batteries (4-pack)</td>\n",
       "      <td>1</td>\n",
       "      <td>2.99</td>\n",
       "      <td>2019-06-07 19:02:00</td>\n",
       "      <td>795 Pine St, Boston, MA 02215</td>\n",
       "      <td>6</td>\n",
       "      <td>2.99</td>\n",
       "      <td>Boston</td>\n",
       "      <td>19</td>\n",
       "      <td>0.0</td>\n",
       "      <td>2.99</td>\n",
       "      <td>0.0</td>\n",
       "    </tr>\n",
       "    <tr>\n",
       "      <th>185949</th>\n",
       "      <td>13621</td>\n",
       "      <td>222909</td>\n",
       "      <td>AAA Batteries (4-pack)</td>\n",
       "      <td>1</td>\n",
       "      <td>2.99</td>\n",
       "      <td>2019-06-25 14:33:00</td>\n",
       "      <td>209 11th St, Atlanta, GA 30301</td>\n",
       "      <td>6</td>\n",
       "      <td>2.99</td>\n",
       "      <td>Atlanta</td>\n",
       "      <td>14</td>\n",
       "      <td>0.0</td>\n",
       "      <td>2.99</td>\n",
       "      <td>0.0</td>\n",
       "    </tr>\n",
       "  </tbody>\n",
       "</table>\n",
       "<p>13726 rows × 14 columns</p>\n",
       "</div>"
      ],
      "text/plain": [
       "        Index  Order ID                 Product  Quantity Ordered  Price Each  \\\n",
       "50         50    295710  AAA Batteries (4-pack)                 1        2.99   \n",
       "75         75    295734  AAA Batteries (4-pack)                 1        2.99   \n",
       "82         82    295738  AAA Batteries (4-pack)                 1        2.99   \n",
       "95         95    295751  AAA Batteries (4-pack)                 1        2.99   \n",
       "113       113    295767  AAA Batteries (4-pack)                 1        2.99   \n",
       "...       ...       ...                     ...               ...         ...   \n",
       "185929  13601    222890  AAA Batteries (4-pack)                 1        2.99   \n",
       "185938  13610    222899  AAA Batteries (4-pack)                 1        2.99   \n",
       "185940  13612    222901  AAA Batteries (4-pack)                 1        2.99   \n",
       "185945  13617    222905  AAA Batteries (4-pack)                 1        2.99   \n",
       "185949  13621    222909  AAA Batteries (4-pack)                 1        2.99   \n",
       "\n",
       "                Order Date                       Purchase Address Month  \\\n",
       "50     2019-12-26 19:09:00         729 Pine St, Atlanta, GA 30301    12   \n",
       "75     2019-12-25 12:38:00     453 Jackson St, Portland, OR 97035    12   \n",
       "82     2019-12-20 18:19:00           829 7th St, Dallas, TX 75001    12   \n",
       "95     2019-12-29 11:03:00  922 Hickory St, Los Angeles, CA 90001    12   \n",
       "113    2019-12-21 13:00:00    891 7th St, New York City, NY 10001    12   \n",
       "...                    ...                                    ...   ...   \n",
       "185929 2019-06-24 07:54:00  665 South St, San Francisco, CA 94016     6   \n",
       "185938 2019-06-18 16:34:00    688 1st St, New York City, NY 10001     6   \n",
       "185940 2019-06-11 04:00:00        891 South St, Atlanta, GA 30301     6   \n",
       "185945 2019-06-07 19:02:00          795 Pine St, Boston, MA 02215     6   \n",
       "185949 2019-06-25 14:33:00         209 11th St, Atlanta, GA 30301     6   \n",
       "\n",
       "        Sales            City  Hour  Gross profit  Revenue  Profit_percentage  \n",
       "50       2.99         Atlanta    19           0.0     2.99                0.0  \n",
       "75       2.99        Portland    12           0.0     2.99                0.0  \n",
       "82       2.99          Dallas    18           0.0     2.99                0.0  \n",
       "95       2.99     Los Angeles    11           0.0     2.99                0.0  \n",
       "113      2.99   New York City    13           0.0     2.99                0.0  \n",
       "...       ...             ...   ...           ...      ...                ...  \n",
       "185929   2.99   San Francisco     7           0.0     2.99                0.0  \n",
       "185938   2.99   New York City    16           0.0     2.99                0.0  \n",
       "185940   2.99         Atlanta     4           0.0     2.99                0.0  \n",
       "185945   2.99          Boston    19           0.0     2.99                0.0  \n",
       "185949   2.99         Atlanta    14           0.0     2.99                0.0  \n",
       "\n",
       "[13726 rows x 14 columns]"
      ]
     },
     "execution_count": 30,
     "metadata": {},
     "output_type": "execute_result"
    }
   ],
   "source": [
    "Sales[Sales['Sales']== Sales['Sales'].min()]"
   ]
  },
  {
   "cell_type": "code",
   "execution_count": 31,
   "id": "959e416e",
   "metadata": {},
   "outputs": [
    {
     "data": {
      "text/plain": [
       "array([' New York City', ' San Francisco', ' Atlanta', ' Portland',\n",
       "       ' Dallas', ' Los Angeles', ' Boston', ' Austin', ' Seattle'],\n",
       "      dtype=object)"
      ]
     },
     "execution_count": 31,
     "metadata": {},
     "output_type": "execute_result"
    }
   ],
   "source": [
    "Sales['City'].unique()"
   ]
  },
  {
   "cell_type": "code",
   "execution_count": 32,
   "id": "2e0899a1",
   "metadata": {},
   "outputs": [
    {
     "data": {
      "text/plain": [
       " San Francisco    44732\n",
       " Los Angeles      29605\n",
       " New York City    24876\n",
       " Boston           19934\n",
       " Atlanta          14881\n",
       " Dallas           14820\n",
       " Seattle          14732\n",
       " Portland         12465\n",
       " Austin            9905\n",
       "Name: City, dtype: int64"
      ]
     },
     "execution_count": 32,
     "metadata": {},
     "output_type": "execute_result"
    }
   ],
   "source": [
    "## Number of products in each city\n",
    "Sales['City'].value_counts()"
   ]
  },
  {
   "cell_type": "code",
   "execution_count": 33,
   "id": "838e3142",
   "metadata": {},
   "outputs": [
    {
     "data": {
      "text/plain": [
       "<Axes: >"
      ]
     },
     "execution_count": 33,
     "metadata": {},
     "output_type": "execute_result"
    },
    {
     "data": {
      "image/png": "[encoded data removed]",
      "text/plain": [
       "<Figure size 640x480 with 1 Axes>"
      ]
     },
     "metadata": {},
     "output_type": "display_data"
    }
   ],
   "source": [
    "Sales['City'].value_counts().plot.bar()"
   ]
  },
  {
   "cell_type": "code",
   "execution_count": 34,
   "id": "6b447ef6",
   "metadata": {},
   "outputs": [],
   "source": [
    "##fig, ax=plt.subplots(figsize=(40,10))\n",
    "#ax.scatter(Sales['Product'], Sales['Sales'])\n",
    "#ax.set_ylabel('Sales')\n",
    "#ax.set_xlabel('Project')"
   ]
  },
  {
   "cell_type": "code",
   "execution_count": 35,
   "id": "daffb575",
   "metadata": {},
   "outputs": [],
   "source": [
    "#fig, ax=plt.subplots(figsize=(16,8))\n",
    "#ax.scatter(Sales['Month'], Sales['Sales'])\n",
    "#ax.set_ylabel('Sales')\n",
    "#ax.set_xlabel('Month')"
   ]
  },
  {
   "cell_type": "code",
   "execution_count": 36,
   "id": "ea2d0539",
   "metadata": {},
   "outputs": [],
   "source": [
    "## get the Quarter year to get more information in the visualization\n",
    "Sales['Quarter'] = Sales['Order Date'].dt.to_period('Q')"
   ]
  },
  {
   "cell_type": "code",
   "execution_count": 37,
   "id": "c10e0492",
   "metadata": {},
   "outputs": [
    {
     "data": {
      "text/html": [
       "<div>\n",
       "<style scoped>\n",
       "    .dataframe tbody tr th:only-of-type {\n",
       "        vertical-align: middle;\n",
       "    }\n",
       "\n",
       "    .dataframe tbody tr th {\n",
       "        vertical-align: top;\n",
       "    }\n",
       "\n",
       "    .dataframe thead th {\n",
       "        text-align: right;\n",
       "    }\n",
       "</style>\n",
       "<table border=\"1\" class=\"dataframe\">\n",
       "  <thead>\n",
       "    <tr style=\"text-align: right;\">\n",
       "      <th></th>\n",
       "      <th>Index</th>\n",
       "      <th>Order ID</th>\n",
       "      <th>Product</th>\n",
       "      <th>Quantity Ordered</th>\n",
       "      <th>Price Each</th>\n",
       "      <th>Order Date</th>\n",
       "      <th>Purchase Address</th>\n",
       "      <th>Month</th>\n",
       "      <th>Sales</th>\n",
       "      <th>City</th>\n",
       "      <th>Hour</th>\n",
       "      <th>Gross profit</th>\n",
       "      <th>Revenue</th>\n",
       "      <th>Profit_percentage</th>\n",
       "      <th>Quarter</th>\n",
       "    </tr>\n",
       "  </thead>\n",
       "  <tbody>\n",
       "    <tr>\n",
       "      <th>0</th>\n",
       "      <td>0</td>\n",
       "      <td>295665</td>\n",
       "      <td>Macbook Pro Laptop</td>\n",
       "      <td>1</td>\n",
       "      <td>1700.00</td>\n",
       "      <td>2019-12-30 00:01:00</td>\n",
       "      <td>136 Church St, New York City, NY 10001</td>\n",
       "      <td>12</td>\n",
       "      <td>1700.00</td>\n",
       "      <td>New York City</td>\n",
       "      <td>0</td>\n",
       "      <td>0.0</td>\n",
       "      <td>1700.00</td>\n",
       "      <td>0.0</td>\n",
       "      <td>2019Q4</td>\n",
       "    </tr>\n",
       "    <tr>\n",
       "      <th>1</th>\n",
       "      <td>1</td>\n",
       "      <td>295666</td>\n",
       "      <td>LG Washing Machine</td>\n",
       "      <td>1</td>\n",
       "      <td>600.00</td>\n",
       "      <td>2019-12-29 07:03:00</td>\n",
       "      <td>562 2nd St, New York City, NY 10001</td>\n",
       "      <td>12</td>\n",
       "      <td>600.00</td>\n",
       "      <td>New York City</td>\n",
       "      <td>7</td>\n",
       "      <td>0.0</td>\n",
       "      <td>600.00</td>\n",
       "      <td>0.0</td>\n",
       "      <td>2019Q4</td>\n",
       "    </tr>\n",
       "    <tr>\n",
       "      <th>2</th>\n",
       "      <td>2</td>\n",
       "      <td>295667</td>\n",
       "      <td>USB-C Charging Cable</td>\n",
       "      <td>1</td>\n",
       "      <td>11.95</td>\n",
       "      <td>2019-12-12 18:21:00</td>\n",
       "      <td>277 Main St, New York City, NY 10001</td>\n",
       "      <td>12</td>\n",
       "      <td>11.95</td>\n",
       "      <td>New York City</td>\n",
       "      <td>18</td>\n",
       "      <td>0.0</td>\n",
       "      <td>11.95</td>\n",
       "      <td>0.0</td>\n",
       "      <td>2019Q4</td>\n",
       "    </tr>\n",
       "    <tr>\n",
       "      <th>3</th>\n",
       "      <td>3</td>\n",
       "      <td>295668</td>\n",
       "      <td>27in FHD Monitor</td>\n",
       "      <td>1</td>\n",
       "      <td>149.99</td>\n",
       "      <td>2019-12-22 15:13:00</td>\n",
       "      <td>410 6th St, San Francisco, CA 94016</td>\n",
       "      <td>12</td>\n",
       "      <td>149.99</td>\n",
       "      <td>San Francisco</td>\n",
       "      <td>15</td>\n",
       "      <td>0.0</td>\n",
       "      <td>149.99</td>\n",
       "      <td>0.0</td>\n",
       "      <td>2019Q4</td>\n",
       "    </tr>\n",
       "    <tr>\n",
       "      <th>4</th>\n",
       "      <td>4</td>\n",
       "      <td>295669</td>\n",
       "      <td>USB-C Charging Cable</td>\n",
       "      <td>1</td>\n",
       "      <td>11.95</td>\n",
       "      <td>2019-12-18 12:38:00</td>\n",
       "      <td>43 Hill St, Atlanta, GA 30301</td>\n",
       "      <td>12</td>\n",
       "      <td>11.95</td>\n",
       "      <td>Atlanta</td>\n",
       "      <td>12</td>\n",
       "      <td>0.0</td>\n",
       "      <td>11.95</td>\n",
       "      <td>0.0</td>\n",
       "      <td>2019Q4</td>\n",
       "    </tr>\n",
       "    <tr>\n",
       "      <th>...</th>\n",
       "      <td>...</td>\n",
       "      <td>...</td>\n",
       "      <td>...</td>\n",
       "      <td>...</td>\n",
       "      <td>...</td>\n",
       "      <td>...</td>\n",
       "      <td>...</td>\n",
       "      <td>...</td>\n",
       "      <td>...</td>\n",
       "      <td>...</td>\n",
       "      <td>...</td>\n",
       "      <td>...</td>\n",
       "      <td>...</td>\n",
       "      <td>...</td>\n",
       "      <td>...</td>\n",
       "    </tr>\n",
       "    <tr>\n",
       "      <th>185945</th>\n",
       "      <td>13617</td>\n",
       "      <td>222905</td>\n",
       "      <td>AAA Batteries (4-pack)</td>\n",
       "      <td>1</td>\n",
       "      <td>2.99</td>\n",
       "      <td>2019-06-07 19:02:00</td>\n",
       "      <td>795 Pine St, Boston, MA 02215</td>\n",
       "      <td>6</td>\n",
       "      <td>2.99</td>\n",
       "      <td>Boston</td>\n",
       "      <td>19</td>\n",
       "      <td>0.0</td>\n",
       "      <td>2.99</td>\n",
       "      <td>0.0</td>\n",
       "      <td>2019Q2</td>\n",
       "    </tr>\n",
       "    <tr>\n",
       "      <th>185946</th>\n",
       "      <td>13618</td>\n",
       "      <td>222906</td>\n",
       "      <td>27in FHD Monitor</td>\n",
       "      <td>1</td>\n",
       "      <td>149.99</td>\n",
       "      <td>2019-06-01 19:29:00</td>\n",
       "      <td>495 North St, New York City, NY 10001</td>\n",
       "      <td>6</td>\n",
       "      <td>149.99</td>\n",
       "      <td>New York City</td>\n",
       "      <td>19</td>\n",
       "      <td>0.0</td>\n",
       "      <td>149.99</td>\n",
       "      <td>0.0</td>\n",
       "      <td>2019Q2</td>\n",
       "    </tr>\n",
       "    <tr>\n",
       "      <th>185947</th>\n",
       "      <td>13619</td>\n",
       "      <td>222907</td>\n",
       "      <td>USB-C Charging Cable</td>\n",
       "      <td>1</td>\n",
       "      <td>11.95</td>\n",
       "      <td>2019-06-22 18:57:00</td>\n",
       "      <td>319 Ridge St, San Francisco, CA 94016</td>\n",
       "      <td>6</td>\n",
       "      <td>11.95</td>\n",
       "      <td>San Francisco</td>\n",
       "      <td>18</td>\n",
       "      <td>0.0</td>\n",
       "      <td>11.95</td>\n",
       "      <td>0.0</td>\n",
       "      <td>2019Q2</td>\n",
       "    </tr>\n",
       "    <tr>\n",
       "      <th>185948</th>\n",
       "      <td>13620</td>\n",
       "      <td>222908</td>\n",
       "      <td>USB-C Charging Cable</td>\n",
       "      <td>1</td>\n",
       "      <td>11.95</td>\n",
       "      <td>2019-06-26 18:35:00</td>\n",
       "      <td>916 Main St, San Francisco, CA 94016</td>\n",
       "      <td>6</td>\n",
       "      <td>11.95</td>\n",
       "      <td>San Francisco</td>\n",
       "      <td>18</td>\n",
       "      <td>0.0</td>\n",
       "      <td>11.95</td>\n",
       "      <td>0.0</td>\n",
       "      <td>2019Q2</td>\n",
       "    </tr>\n",
       "    <tr>\n",
       "      <th>185949</th>\n",
       "      <td>13621</td>\n",
       "      <td>222909</td>\n",
       "      <td>AAA Batteries (4-pack)</td>\n",
       "      <td>1</td>\n",
       "      <td>2.99</td>\n",
       "      <td>2019-06-25 14:33:00</td>\n",
       "      <td>209 11th St, Atlanta, GA 30301</td>\n",
       "      <td>6</td>\n",
       "      <td>2.99</td>\n",
       "      <td>Atlanta</td>\n",
       "      <td>14</td>\n",
       "      <td>0.0</td>\n",
       "      <td>2.99</td>\n",
       "      <td>0.0</td>\n",
       "      <td>2019Q2</td>\n",
       "    </tr>\n",
       "  </tbody>\n",
       "</table>\n",
       "<p>185950 rows × 15 columns</p>\n",
       "</div>"
      ],
      "text/plain": [
       "        Index  Order ID                 Product  Quantity Ordered  Price Each  \\\n",
       "0           0    295665      Macbook Pro Laptop                 1     1700.00   \n",
       "1           1    295666      LG Washing Machine                 1      600.00   \n",
       "2           2    295667    USB-C Charging Cable                 1       11.95   \n",
       "3           3    295668        27in FHD Monitor                 1      149.99   \n",
       "4           4    295669    USB-C Charging Cable                 1       11.95   \n",
       "...       ...       ...                     ...               ...         ...   \n",
       "185945  13617    222905  AAA Batteries (4-pack)                 1        2.99   \n",
       "185946  13618    222906        27in FHD Monitor                 1      149.99   \n",
       "185947  13619    222907    USB-C Charging Cable                 1       11.95   \n",
       "185948  13620    222908    USB-C Charging Cable                 1       11.95   \n",
       "185949  13621    222909  AAA Batteries (4-pack)                 1        2.99   \n",
       "\n",
       "                Order Date                        Purchase Address Month  \\\n",
       "0      2019-12-30 00:01:00  136 Church St, New York City, NY 10001    12   \n",
       "1      2019-12-29 07:03:00     562 2nd St, New York City, NY 10001    12   \n",
       "2      2019-12-12 18:21:00    277 Main St, New York City, NY 10001    12   \n",
       "3      2019-12-22 15:13:00     410 6th St, San Francisco, CA 94016    12   \n",
       "4      2019-12-18 12:38:00           43 Hill St, Atlanta, GA 30301    12   \n",
       "...                    ...                                     ...   ...   \n",
       "185945 2019-06-07 19:02:00           795 Pine St, Boston, MA 02215     6   \n",
       "185946 2019-06-01 19:29:00   495 North St, New York City, NY 10001     6   \n",
       "185947 2019-06-22 18:57:00   319 Ridge St, San Francisco, CA 94016     6   \n",
       "185948 2019-06-26 18:35:00    916 Main St, San Francisco, CA 94016     6   \n",
       "185949 2019-06-25 14:33:00          209 11th St, Atlanta, GA 30301     6   \n",
       "\n",
       "          Sales            City  Hour  Gross profit  Revenue  \\\n",
       "0       1700.00   New York City     0           0.0  1700.00   \n",
       "1        600.00   New York City     7           0.0   600.00   \n",
       "2         11.95   New York City    18           0.0    11.95   \n",
       "3        149.99   San Francisco    15           0.0   149.99   \n",
       "4         11.95         Atlanta    12           0.0    11.95   \n",
       "...         ...             ...   ...           ...      ...   \n",
       "185945     2.99          Boston    19           0.0     2.99   \n",
       "185946   149.99   New York City    19           0.0   149.99   \n",
       "185947    11.95   San Francisco    18           0.0    11.95   \n",
       "185948    11.95   San Francisco    18           0.0    11.95   \n",
       "185949     2.99         Atlanta    14           0.0     2.99   \n",
       "\n",
       "        Profit_percentage Quarter  \n",
       "0                     0.0  2019Q4  \n",
       "1                     0.0  2019Q4  \n",
       "2                     0.0  2019Q4  \n",
       "3                     0.0  2019Q4  \n",
       "4                     0.0  2019Q4  \n",
       "...                   ...     ...  \n",
       "185945                0.0  2019Q2  \n",
       "185946                0.0  2019Q2  \n",
       "185947                0.0  2019Q2  \n",
       "185948                0.0  2019Q2  \n",
       "185949                0.0  2019Q2  \n",
       "\n",
       "[185950 rows x 15 columns]"
      ]
     },
     "execution_count": 37,
     "metadata": {},
     "output_type": "execute_result"
    }
   ],
   "source": [
    "Sales"
   ]
  },
  {
   "cell_type": "code",
   "execution_count": 38,
   "id": "593787ae",
   "metadata": {},
   "outputs": [],
   "source": [
    "Sales.to_csv('Sales.csv')"
   ]
  },
  {
   "cell_type": "markdown",
   "id": "c70de813",
   "metadata": {},
   "source": [
    "# Done"
   ]
  }
 ],
 "metadata": {
  "kernelspec": {
   "display_name": "Python 3 (ipykernel)",
   "language": "python",
   "name": "python3"
  },
  "language_info": {
   "codemirror_mode": {
    "name": "ipython",
    "version": 3
   },
   "file_extension": ".py",
   "mimetype": "text/x-python",
   "name": "python",
   "nbconvert_exporter": "python",
   "pygments_lexer": "ipython3",
   "version": "3.10.9"
  }
 },
 "nbformat": 4,
 "nbformat_minor": 5
}
